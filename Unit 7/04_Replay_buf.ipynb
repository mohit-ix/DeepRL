{
 "cells": [
  {
   "cell_type": "code",
   "execution_count": 1,
   "id": "90c89776-069d-44d6-b694-7dbf644603bf",
   "metadata": {
    "tags": []
   },
   "outputs": [],
   "source": [
    "import gym\n",
    "import ptan\n",
    "from typing import List, Optional, Tuple, Any"
   ]
  },
  {
   "cell_type": "code",
   "execution_count": 2,
   "id": "5b1e9e02-5d41-4a6d-8fb0-dcb6229bf1cf",
   "metadata": {
    "tags": []
   },
   "outputs": [],
   "source": [
    "class ToyEnv(gym.Env):\n",
    "    \"\"\"\n",
    "    Environment with observation 0..4 and actions 0..2\n",
    "    Observations are rotated sequentialy mod 5, reward is equal to given action.\n",
    "    Episodes are having fixed length of 10\n",
    "    \"\"\"\n",
    "\n",
    "    def __init__(self):\n",
    "        super(ToyEnv, self).__init__()\n",
    "        self.observation_space = gym.spaces.Discrete(n=5)\n",
    "        self.action_space = gym.spaces.Discrete(n=3)\n",
    "        self.step_index = 0\n",
    "\n",
    "    def reset(self):\n",
    "        self.step_index = 0\n",
    "        return self.step_index\n",
    "\n",
    "    def step(self, action):\n",
    "        is_done = self.step_index == 10\n",
    "        if is_done:\n",
    "            return self.step_index % self.observation_space.n, \\\n",
    "                   0.0, is_done, {}\n",
    "        self.step_index += 1\n",
    "        return self.step_index % self.observation_space.n, \\\n",
    "               float(action), self.step_index == 10, {}"
   ]
  },
  {
   "cell_type": "code",
   "execution_count": 3,
   "id": "c5ba083b-51f0-48d6-b0ca-cb266fa96cdf",
   "metadata": {
    "tags": []
   },
   "outputs": [],
   "source": [
    "class DullAgent(ptan.agent.BaseAgent):\n",
    "    \"\"\"\n",
    "    Agent always returns the fixed action\n",
    "    \"\"\"\n",
    "    def __init__(self, action: int):\n",
    "        self.action = action\n",
    "\n",
    "    def __call__(self, observations: List[Any],\n",
    "                 state: Optional[List] = None) \\\n",
    "            -> Tuple[List[int], Optional[List]]:\n",
    "        return [self.action for _ in observations], state"
   ]
  },
  {
   "cell_type": "code",
   "execution_count": 12,
   "id": "d98e8f98-5c14-4607-95b0-0f2b3fc94bca",
   "metadata": {
    "tags": []
   },
   "outputs": [],
   "source": [
    "env = ToyEnv()\n",
    "agent = DullAgent(action=1)\n",
    "exp_source = ptan.experience.ExperienceSourceFirstLast(env, agent, gamma=1.0, steps_count=1)\n",
    "buffer = ptan.experience.ExperienceReplayBuffer(exp_source, buffer_size=100)"
   ]
  },
  {
   "cell_type": "code",
   "execution_count": 13,
   "id": "59429b3a-4a35-4356-9cff-808df3aa9c77",
   "metadata": {
    "tags": []
   },
   "outputs": [
    {
     "name": "stdout",
     "output_type": "stream",
     "text": [
      "Train time, 4 batch samples:\n",
      "ExperienceFirstLast(state=2, action=1, reward=1.0, last_state=3)\n",
      "ExperienceFirstLast(state=0, action=1, reward=1.0, last_state=1)\n",
      "ExperienceFirstLast(state=4, action=1, reward=1.0, last_state=0)\n",
      "ExperienceFirstLast(state=4, action=1, reward=1.0, last_state=0)\n",
      "Train time, 4 batch samples:\n",
      "ExperienceFirstLast(state=0, action=1, reward=1.0, last_state=1)\n",
      "ExperienceFirstLast(state=2, action=1, reward=1.0, last_state=3)\n",
      "ExperienceFirstLast(state=4, action=1, reward=1.0, last_state=0)\n",
      "ExperienceFirstLast(state=1, action=1, reward=1.0, last_state=2)\n"
     ]
    }
   ],
   "source": [
    "for step in range(6):\n",
    "    buffer.populate(1)\n",
    "    if len(buffer) < 5:\n",
    "        continue\n",
    "    batch = buffer.sample(4)\n",
    "    print(\"Train time, %d batch samples:\" % len(batch))\n",
    "    for s in batch:\n",
    "        print(s)"
   ]
  },
  {
   "cell_type": "code",
   "execution_count": null,
   "id": "3ce4cd63-bf00-411f-ad74-a1969632d74a",
   "metadata": {},
   "outputs": [],
   "source": []
  }
 ],
 "metadata": {
  "kernelspec": {
   "display_name": "deeprl",
   "language": "python",
   "name": "deeprl"
  },
  "language_info": {
   "codemirror_mode": {
    "name": "ipython",
    "version": 3
   },
   "file_extension": ".py",
   "mimetype": "text/x-python",
   "name": "python",
   "nbconvert_exporter": "python",
   "pygments_lexer": "ipython3",
   "version": "3.7.5"
  }
 },
 "nbformat": 4,
 "nbformat_minor": 5
}

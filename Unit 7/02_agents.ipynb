{
 "cells": [
  {
   "cell_type": "code",
   "execution_count": 1,
   "id": "efe7dc6d-3aca-4b15-ba88-1317fe695e93",
   "metadata": {
    "tags": []
   },
   "outputs": [],
   "source": [
    "import ptan\n",
    "import torch\n",
    "import torch.nn as nn"
   ]
  },
  {
   "cell_type": "code",
   "execution_count": 3,
   "id": "6430993c-42fb-4820-a1af-5a09a6c889f9",
   "metadata": {
    "tags": []
   },
   "outputs": [],
   "source": [
    "class DQNNet(nn.Module):\n",
    "    '''\n",
    "    Class for taking actions as parameters and one-hot encoding them\n",
    "    '''\n",
    "    def __init__(self, actions: int):\n",
    "        super(DQNNet, self).__init__()\n",
    "        self.actions = actions\n",
    "    \n",
    "    def forward(self, x):\n",
    "        # torch.eye creates a diagonal matrix of size passed\n",
    "        return torch.eye(x.size()[0], self.actions)"
   ]
  },
  {
   "cell_type": "code",
   "execution_count": 10,
   "id": "73e1adb0-cb9c-4f8d-bec5-e87f44b66fa5",
   "metadata": {
    "tags": []
   },
   "outputs": [],
   "source": [
    "class PolicyNet(nn.Module):\n",
    "    def __init__(self, actions: int):\n",
    "        super(PolicyNet, self).__init__()\n",
    "        self.actions = actions\n",
    "        \n",
    "    def forward(self, x):\n",
    "        # initiating a tensor with first two actions having same logit scores\n",
    "        shape = (x.size()[0], self.actions)\n",
    "        res = torch.zeros(shape, dtype=torch.float32)\n",
    "        res[:, 0] = 1\n",
    "        res[:, 1] = 1\n",
    "        return res"
   ]
  },
  {
   "cell_type": "code",
   "execution_count": 5,
   "id": "3bf62ca4-b65b-4fd0-b188-c82e485c7e03",
   "metadata": {
    "tags": []
   },
   "outputs": [
    {
     "name": "stdout",
     "output_type": "stream",
     "text": [
      "dqn_net:\n",
      "tensor([[1., 0., 0.],\n",
      "        [0., 1., 0.]])\n"
     ]
    }
   ],
   "source": [
    "net = DQNNet(actions = 3)\n",
    "net_out = net(torch.zeros(2, 10))\n",
    "print(\"dqn_net:\")\n",
    "print(net_out)"
   ]
  },
  {
   "cell_type": "code",
   "execution_count": 6,
   "id": "de4a45ce-777b-42f5-b51d-36d238bb3e0b",
   "metadata": {
    "tags": []
   },
   "outputs": [
    {
     "name": "stdout",
     "output_type": "stream",
     "text": [
      "Argmax: (array([0, 1], dtype=int64), [None, None])\n"
     ]
    }
   ],
   "source": [
    "selector = ptan.actions.ArgmaxActionSelector()\n",
    "agent = ptan.agent.DQNAgent(dqn_model=net, action_selector=selector)\n",
    "ag_out = agent(torch.zeros(2, 5))\n",
    "print(\"Argmax:\", ag_out)"
   ]
  },
  {
   "cell_type": "code",
   "execution_count": 7,
   "id": "c2dcf14c-75a2-4811-96ad-2c3ac7f3ec59",
   "metadata": {
    "tags": []
   },
   "outputs": [
    {
     "name": "stdout",
     "output_type": "stream",
     "text": [
      "eps=1.0: [0 0 0 2 2 2 2 0 1 2]\n"
     ]
    }
   ],
   "source": [
    "selector = ptan.actions.EpsilonGreedyActionSelector(epsilon=1.0)\n",
    "agent = ptan.agent.DQNAgent(dqn_model=net, action_selector=selector)\n",
    "ag_out = agent(torch.zeros(10, 5))[0]\n",
    "print(\"eps=1.0:\", ag_out)"
   ]
  },
  {
   "cell_type": "code",
   "execution_count": 8,
   "id": "e3f83389-2c5c-40c9-ad96-943a309f8f8d",
   "metadata": {
    "tags": []
   },
   "outputs": [
    {
     "name": "stdout",
     "output_type": "stream",
     "text": [
      "eps=0.5: [1 2 2 0 2 0 0 2 2 1]\n",
      "eps=0.1: [0 1 2 0 0 0 0 0 0 0]\n"
     ]
    }
   ],
   "source": [
    "selector.epsilon = 0.5\n",
    "ag_out = agent(torch.zeros(10, 5))[0]\n",
    "print(\"eps=0.5:\", ag_out)\n",
    "\n",
    "selector.epsilon = 0.1\n",
    "ag_out = agent(torch.zeros(10, 5))[0]\n",
    "print(\"eps=0.1:\", ag_out)"
   ]
  },
  {
   "cell_type": "code",
   "execution_count": 11,
   "id": "834af192-75f1-419c-938d-5563aa231683",
   "metadata": {
    "tags": []
   },
   "outputs": [
    {
     "name": "stdout",
     "output_type": "stream",
     "text": [
      "policy_net:\n",
      "tensor([[1., 1., 0., 0., 0.],\n",
      "        [1., 1., 0., 0., 0.],\n",
      "        [1., 1., 0., 0., 0.],\n",
      "        [1., 1., 0., 0., 0.],\n",
      "        [1., 1., 0., 0., 0.],\n",
      "        [1., 1., 0., 0., 0.]])\n"
     ]
    }
   ],
   "source": [
    "net = PolicyNet(actions=5)\n",
    "net_out = net(torch.zeros(6, 10))\n",
    "print(\"policy_net:\")\n",
    "print(net_out)"
   ]
  },
  {
   "cell_type": "code",
   "execution_count": 12,
   "id": "f0f09494-2324-43f8-a628-af5208d461f9",
   "metadata": {
    "tags": []
   },
   "outputs": [
    {
     "name": "stdout",
     "output_type": "stream",
     "text": [
      "[0 1 2 1 4 1]\n"
     ]
    }
   ],
   "source": [
    "selector = ptan.actions.ProbabilityActionSelector()\n",
    "agent = ptan.agent.PolicyAgent(model=net, action_selector=selector, apply_softmax=True)\n",
    "ag_out = agent(torch.zeros(6, 5))[0]\n",
    "print(ag_out)"
   ]
  },
  {
   "cell_type": "code",
   "execution_count": null,
   "id": "6a5f6b67-5c04-4166-a242-c3eb79e89375",
   "metadata": {},
   "outputs": [],
   "source": []
  }
 ],
 "metadata": {
  "kernelspec": {
   "display_name": "deeprl",
   "language": "python",
   "name": "deeprl"
  },
  "language_info": {
   "codemirror_mode": {
    "name": "ipython",
    "version": 3
   },
   "file_extension": ".py",
   "mimetype": "text/x-python",
   "name": "python",
   "nbconvert_exporter": "python",
   "pygments_lexer": "ipython3",
   "version": "3.7.5"
  }
 },
 "nbformat": 4,
 "nbformat_minor": 5
}

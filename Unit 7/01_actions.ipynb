{
 "cells": [
  {
   "cell_type": "code",
   "execution_count": 1,
   "id": "7e3291b0-2678-49f6-8ff3-c869a61d4df5",
   "metadata": {
    "tags": []
   },
   "outputs": [],
   "source": [
    "import ptan\n",
    "import numpy as np"
   ]
  },
  {
   "cell_type": "code",
   "execution_count": 2,
   "id": "c358fb1c-afbd-4677-b6e4-b1b95f051034",
   "metadata": {
    "tags": []
   },
   "outputs": [
    {
     "name": "stdout",
     "output_type": "stream",
     "text": [
      "q_vals\n",
      "[[ 1  2  3]\n",
      " [ 1 -1  0]]\n"
     ]
    }
   ],
   "source": [
    "q_vals = np.array([[1, 2, 3], [1, -1, 0]])\n",
    "print(\"q_vals\")\n",
    "print(q_vals)"
   ]
  },
  {
   "cell_type": "code",
   "execution_count": 3,
   "id": "c797f9eb-23a0-4f0b-ab26-1e3e2075aaff",
   "metadata": {
    "tags": []
   },
   "outputs": [
    {
     "name": "stdout",
     "output_type": "stream",
     "text": [
      "argmax: [2 0]\n"
     ]
    }
   ],
   "source": [
    "selector = ptan.actions.ArgmaxActionSelector()\n",
    "print(\"argmax:\", selector(q_vals))"
   ]
  },
  {
   "cell_type": "code",
   "execution_count": 4,
   "id": "c54f01f7-2923-4425-9f6e-9b8a4f59cebf",
   "metadata": {
    "tags": []
   },
   "outputs": [
    {
     "name": "stdout",
     "output_type": "stream",
     "text": [
      "epsilon=0.0: [2 0]\n"
     ]
    }
   ],
   "source": [
    "selector = ptan.actions.EpsilonGreedyActionSelector()\n",
    "print(\"epsilon=0.0:\", selector(q_vals))"
   ]
  },
  {
   "cell_type": "code",
   "execution_count": 5,
   "id": "2eaa2bc9-4fc6-4e35-bc00-520d64d06060",
   "metadata": {
    "tags": []
   },
   "outputs": [
    {
     "name": "stdout",
     "output_type": "stream",
     "text": [
      "epsilon=1.0: [1 2]\n"
     ]
    }
   ],
   "source": [
    "selector.epsilon = 1.0\n",
    "print(\"epsilon=1.0:\", selector(q_vals))"
   ]
  },
  {
   "cell_type": "code",
   "execution_count": 6,
   "id": "0d4e1465-fd10-40c3-b3b7-e296a06d702a",
   "metadata": {
    "tags": []
   },
   "outputs": [
    {
     "name": "stdout",
     "output_type": "stream",
     "text": [
      "epsilon=0.5: [1 0]\n"
     ]
    }
   ],
   "source": [
    "selector.epsilon = 0.5\n",
    "print(\"epsilon=0.5:\", selector(q_vals))"
   ]
  },
  {
   "cell_type": "code",
   "execution_count": 7,
   "id": "080dbbca-92ac-4150-8e08-6bc04548e6a2",
   "metadata": {
    "tags": []
   },
   "outputs": [
    {
     "name": "stdout",
     "output_type": "stream",
     "text": [
      "epsilon=0.1: [2 0]\n"
     ]
    }
   ],
   "source": [
    "selector.epsilon = 0.1\n",
    "print(\"epsilon=0.1:\", selector(q_vals))"
   ]
  },
  {
   "cell_type": "code",
   "execution_count": 8,
   "id": "533a5fa5-501c-4bc9-900b-63442d727130",
   "metadata": {
    "tags": []
   },
   "outputs": [
    {
     "name": "stdout",
     "output_type": "stream",
     "text": [
      "Actions sampled from three prob distributions:\n",
      "[0 2 1]\n",
      "[0 2 0]\n",
      "[1 2 1]\n",
      "[1 2 0]\n",
      "[1 2 1]\n",
      "[1 2 1]\n",
      "[1 2 1]\n",
      "[1 2 1]\n",
      "[1 2 0]\n",
      "[1 2 0]\n"
     ]
    }
   ],
   "source": [
    "selector = ptan.actions.ProbabilityActionSelector()\n",
    "print(\"Actions sampled from three prob distributions:\")\n",
    "for _ in range(10):\n",
    "    acts = selector(np.array([\n",
    "        [0.1, 0.8, 0.1],\n",
    "        [0.0, 0.0, 1.0],\n",
    "        [0.5, 0.5, 0.0]\n",
    "    ]))\n",
    "    print(acts)"
   ]
  },
  {
   "cell_type": "code",
   "execution_count": null,
   "id": "fe568a3f-19c9-4215-a0e3-95d4b4029515",
   "metadata": {},
   "outputs": [],
   "source": []
  }
 ],
 "metadata": {
  "kernelspec": {
   "display_name": "deeprl",
   "language": "python",
   "name": "deeprl"
  },
  "language_info": {
   "codemirror_mode": {
    "name": "ipython",
    "version": 3
   },
   "file_extension": ".py",
   "mimetype": "text/x-python",
   "name": "python",
   "nbconvert_exporter": "python",
   "pygments_lexer": "ipython3",
   "version": "3.7.5"
  }
 },
 "nbformat": 4,
 "nbformat_minor": 5
}

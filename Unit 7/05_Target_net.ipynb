{
 "cells": [
  {
   "cell_type": "code",
   "execution_count": 1,
   "id": "f1b3819e-de32-414f-ab11-387d89187727",
   "metadata": {
    "tags": []
   },
   "outputs": [],
   "source": [
    "import ptan\n",
    "import torch.nn as nn"
   ]
  },
  {
   "cell_type": "code",
   "execution_count": 2,
   "id": "fdacd824-ba9f-4d8c-996d-9ac112709e79",
   "metadata": {
    "tags": []
   },
   "outputs": [],
   "source": [
    "class DQNNet(nn.Module):\n",
    "    def __init__(self):\n",
    "        super(DQNNet, self).__init__()\n",
    "        self.ff = nn.Linear(5, 3)\n",
    "        \n",
    "    def forward(self, x):\n",
    "        return self.ff(x)"
   ]
  },
  {
   "cell_type": "code",
   "execution_count": 7,
   "id": "0aaf255b-1a70-4126-b435-25c36478bd59",
   "metadata": {
    "tags": []
   },
   "outputs": [
    {
     "name": "stdout",
     "output_type": "stream",
     "text": [
      "DQNNet(\n",
      "  (ff): Linear(in_features=5, out_features=3, bias=True)\n",
      ")\n"
     ]
    }
   ],
   "source": [
    "net = DQNNet()\n",
    "print(net)"
   ]
  },
  {
   "cell_type": "code",
   "execution_count": 8,
   "id": "3e8476e1-f728-4d08-a54f-1bdd836b6b3d",
   "metadata": {
    "tags": []
   },
   "outputs": [
    {
     "name": "stdout",
     "output_type": "stream",
     "text": [
      "Main net: Parameter containing:\n",
      "tensor([[ 0.3669, -0.0879, -0.0668, -0.1215,  0.3779],\n",
      "        [-0.4396,  0.2070,  0.3378,  0.3044,  0.3197],\n",
      "        [ 0.4045, -0.1415, -0.0235, -0.3957, -0.0357]], requires_grad=True)\n",
      "Target net: Parameter containing:\n",
      "tensor([[ 0.3669, -0.0879, -0.0668, -0.1215,  0.3779],\n",
      "        [-0.4396,  0.2070,  0.3378,  0.3044,  0.3197],\n",
      "        [ 0.4045, -0.1415, -0.0235, -0.3957, -0.0357]], requires_grad=True)\n"
     ]
    }
   ],
   "source": [
    "tgt_net = ptan.agent.TargetNet(net)\n",
    "print(\"Main net:\", net.ff.weight)\n",
    "print(\"Target net:\", tgt_net.target_model.ff.weight)"
   ]
  },
  {
   "cell_type": "code",
   "execution_count": 9,
   "id": "b5f53336-e212-4c36-b9fa-7dc6338b4cb3",
   "metadata": {
    "tags": []
   },
   "outputs": [
    {
     "name": "stdout",
     "output_type": "stream",
     "text": [
      "After update\n",
      "Main net: Parameter containing:\n",
      "tensor([[1.3669, 0.9121, 0.9332, 0.8785, 1.3779],\n",
      "        [0.5604, 1.2070, 1.3378, 1.3044, 1.3197],\n",
      "        [1.4045, 0.8585, 0.9765, 0.6043, 0.9643]], requires_grad=True)\n",
      "Target net: Parameter containing:\n",
      "tensor([[ 0.3669, -0.0879, -0.0668, -0.1215,  0.3779],\n",
      "        [-0.4396,  0.2070,  0.3378,  0.3044,  0.3197],\n",
      "        [ 0.4045, -0.1415, -0.0235, -0.3957, -0.0357]], requires_grad=True)\n"
     ]
    }
   ],
   "source": [
    "net.ff.weight.data += 1.0\n",
    "print(\"After update\")\n",
    "print(\"Main net:\", net.ff.weight)\n",
    "print(\"Target net:\", tgt_net.target_model.ff.weight)"
   ]
  },
  {
   "cell_type": "code",
   "execution_count": 10,
   "id": "d70db5d8-b59b-482f-afce-24dc673c4575",
   "metadata": {
    "tags": []
   },
   "outputs": [
    {
     "name": "stdout",
     "output_type": "stream",
     "text": [
      "After sync\n",
      "Main net: Parameter containing:\n",
      "tensor([[1.3669, 0.9121, 0.9332, 0.8785, 1.3779],\n",
      "        [0.5604, 1.2070, 1.3378, 1.3044, 1.3197],\n",
      "        [1.4045, 0.8585, 0.9765, 0.6043, 0.9643]], requires_grad=True)\n",
      "Target net: Parameter containing:\n",
      "tensor([[1.3669, 0.9121, 0.9332, 0.8785, 1.3779],\n",
      "        [0.5604, 1.2070, 1.3378, 1.3044, 1.3197],\n",
      "        [1.4045, 0.8585, 0.9765, 0.6043, 0.9643]], requires_grad=True)\n"
     ]
    }
   ],
   "source": [
    "tgt_net.sync()\n",
    "print(\"After sync\")\n",
    "print(\"Main net:\", net.ff.weight)\n",
    "print(\"Target net:\", tgt_net.target_model.ff.weight)"
   ]
  },
  {
   "cell_type": "code",
   "execution_count": null,
   "id": "cf1f35c9-8c35-4007-af8f-0b7918c2fd7c",
   "metadata": {},
   "outputs": [],
   "source": []
  }
 ],
 "metadata": {
  "kernelspec": {
   "display_name": "deeprl",
   "language": "python",
   "name": "deeprl"
  },
  "language_info": {
   "codemirror_mode": {
    "name": "ipython",
    "version": 3
   },
   "file_extension": ".py",
   "mimetype": "text/x-python",
   "name": "python",
   "nbconvert_exporter": "python",
   "pygments_lexer": "ipython3",
   "version": "3.7.5"
  }
 },
 "nbformat": 4,
 "nbformat_minor": 5
}

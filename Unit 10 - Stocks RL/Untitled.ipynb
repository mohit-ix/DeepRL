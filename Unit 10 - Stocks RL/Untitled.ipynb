{
 "cells": [
  {
   "cell_type": "code",
   "execution_count": 1,
   "id": "83829497-db0f-4bfd-b1cc-1e3774146e91",
   "metadata": {
    "tags": []
   },
   "outputs": [],
   "source": [
    "import ptan\n",
    "import pathlib\n",
    "import argparse\n",
    "import gym.wrappers\n",
    "import numpy as np\n",
    "\n",
    "import torch\n",
    "import torch.optim as optim\n",
    "\n",
    "from ignite.engine import Engine\n",
    "from ignite.contrib.handlers import tensorboard_logger as tb_logger\n",
    "\n",
    "from lib import environ, data, models, common, validation\n",
    "\n",
    "SAVES_DIR = pathlib.Path(\"saves\")\n",
    "STOCKS = \"data/YNDX_160101_161231.csv\"\n",
    "VAL_STOCKS = \"data/YNDX_150101_151231.csv\"\n",
    "\n",
    "BATCH_SIZE = 32\n",
    "BARS_COUNT = 10\n",
    "\n",
    "EPS_START = 1.0\n",
    "EPS_FINAL = 0.1\n",
    "EPS_STEPS = 1000000\n",
    "\n",
    "GAMMA = 0.99\n",
    "\n",
    "REPLAY_SIZE = 100000\n",
    "REPLAY_INITIAL = 10000\n",
    "REWARD_STEPS = 2\n",
    "LEARNING_RATE = 0.0001\n",
    "STATES_TO_EVALUATE = 1000"
   ]
  },
  {
   "cell_type": "code",
   "execution_count": 3,
   "id": "05556a8a-d6de-4564-8d08-17294c850472",
   "metadata": {
    "tags": []
   },
   "outputs": [
    {
     "ename": "AttributeError",
     "evalue": "'str' object has no attribute 'load_relative'",
     "output_type": "error",
     "traceback": [
      "\u001b[1;31m---------------------------------------------------------------------------\u001b[0m",
      "\u001b[1;31mAttributeError\u001b[0m                            Traceback (most recent call last)",
      "\u001b[1;32m~\\AppData\\Local\\Temp\\ipykernel_10428\\3056939444.py\u001b[0m in \u001b[0;36m<module>\u001b[1;34m\u001b[0m\n\u001b[0;32m     16\u001b[0m         \u001b[0mstock_data\u001b[0m \u001b[1;33m=\u001b[0m \u001b[0mdata\u001b[0m\u001b[1;33m.\u001b[0m\u001b[0mload_year_data\u001b[0m\u001b[1;33m(\u001b[0m\u001b[0myear\u001b[0m\u001b[1;33m)\u001b[0m\u001b[1;33m\u001b[0m\u001b[1;33m\u001b[0m\u001b[0m\n\u001b[0;32m     17\u001b[0m     \u001b[1;32melse\u001b[0m\u001b[1;33m:\u001b[0m\u001b[1;33m\u001b[0m\u001b[1;33m\u001b[0m\u001b[0m\n\u001b[1;32m---> 18\u001b[1;33m         \u001b[0mstock_data\u001b[0m \u001b[1;33m=\u001b[0m \u001b[1;33m{\u001b[0m\u001b[1;34m\"YNDX\"\u001b[0m\u001b[1;33m:\u001b[0m \u001b[0mdata\u001b[0m\u001b[1;33m.\u001b[0m\u001b[0mload_relative\u001b[0m\u001b[1;33m(\u001b[0m\u001b[0mdata_path\u001b[0m\u001b[1;33m)\u001b[0m\u001b[1;33m}\u001b[0m\u001b[1;33m\u001b[0m\u001b[1;33m\u001b[0m\u001b[0m\n\u001b[0m\u001b[0;32m     19\u001b[0m     \u001b[0menv\u001b[0m \u001b[1;33m=\u001b[0m \u001b[0menviron\u001b[0m\u001b[1;33m.\u001b[0m\u001b[0mStocksEnv\u001b[0m\u001b[1;33m(\u001b[0m\u001b[0mstock_data\u001b[0m\u001b[1;33m,\u001b[0m \u001b[0mbars_count\u001b[0m\u001b[1;33m=\u001b[0m\u001b[0mBARS_COUNT\u001b[0m\u001b[1;33m,\u001b[0m \u001b[0mstate_1d\u001b[0m\u001b[1;33m=\u001b[0m\u001b[1;32mTrue\u001b[0m\u001b[1;33m)\u001b[0m\u001b[1;33m\u001b[0m\u001b[1;33m\u001b[0m\u001b[0m\n\u001b[0;32m     20\u001b[0m     \u001b[0menv_tst\u001b[0m \u001b[1;33m=\u001b[0m \u001b[0menviron\u001b[0m\u001b[1;33m.\u001b[0m\u001b[0mStocksEnv\u001b[0m\u001b[1;33m(\u001b[0m\u001b[0mstock_data\u001b[0m\u001b[1;33m,\u001b[0m \u001b[0mbars_count\u001b[0m\u001b[1;33m=\u001b[0m\u001b[0mBARS_COUNT\u001b[0m\u001b[1;33m,\u001b[0m \u001b[0mstate_1d\u001b[0m\u001b[1;33m=\u001b[0m\u001b[1;32mTrue\u001b[0m\u001b[1;33m)\u001b[0m\u001b[1;33m\u001b[0m\u001b[1;33m\u001b[0m\u001b[0m\n",
      "\u001b[1;31mAttributeError\u001b[0m: 'str' object has no attribute 'load_relative'"
     ]
    }
   ],
   "source": [
    "cuda = True\n",
    "data = STOCKS\n",
    "year = None\n",
    "val = VAL_STOCKS\n",
    "run = True\n",
    "device = torch.device(\"cuda\" if cuda else \"cpu\")\n",
    "\n",
    "saves_path = SAVES_DIR / f\"conv-{run}\"\n",
    "saves_path.mkdir(parents=True, exist_ok=True)\n",
    "\n",
    "data_path = pathlib.Path(data)\n",
    "val_path = pathlib.Path(val)\n",
    "\n",
    "if year is not None or data_path.is_file():\n",
    "    if year is not None:\n",
    "        stock_data = data.load_year_data(year)\n",
    "    else:\n",
    "        stock_data = {\"YNDX\": data.load_relative(data_path)}\n",
    "    env = environ.StocksEnv(stock_data, bars_count=BARS_COUNT, state_1d=True)\n",
    "    env_tst = environ.StocksEnv(stock_data, bars_count=BARS_COUNT, state_1d=True)\n",
    "elif data_path.is_dir():\n",
    "    env = environ.StocksEnv.from_dir(data_path, bars_count=BARS_COUNT, state_1d=True)\n",
    "    env_tst = environ.StocksEnv.from_dir(data_path, bars_count=BARS_COUNT, state_1d=True)\n",
    "else:\n",
    "    raise RuntimeError(\"No data to train on\")"
   ]
  },
  {
   "cell_type": "code",
   "execution_count": 15,
   "id": "b315fc7a-c586-46d5-9268-88d0e8c12ca2",
   "metadata": {
    "tags": []
   },
   "outputs": [
    {
     "name": "stdout",
     "output_type": "stream",
     "text": [
      "<_csv.reader object at 0x0000025EA83EC0B8>\n"
     ]
    }
   ],
   "source": [
    "with open(data_path, 'rt', encoding='utf-8') as fd:\n",
    "        reader = csv.reader(fd, delimiter=\",\")\n",
    "        print(reader)"
   ]
  },
  {
   "cell_type": "code",
   "execution_count": 4,
   "id": "32a97447-e0aa-4024-9e52-367ec25e2d7a",
   "metadata": {
    "tags": []
   },
   "outputs": [
    {
     "name": "stdout",
     "output_type": "stream",
     "text": [
      "Reading data\\YNDX_160101_161231.csv\n"
     ]
    },
    {
     "ename": "TypeError",
     "evalue": "argument of type 'bool' is not iterable",
     "output_type": "error",
     "traceback": [
      "\u001b[1;31m---------------------------------------------------------------------------\u001b[0m",
      "\u001b[1;31mTypeError\u001b[0m                                 Traceback (most recent call last)",
      "\u001b[1;32m~\\AppData\\Local\\Temp\\ipykernel_10428\\3527259283.py\u001b[0m in \u001b[0;36m<module>\u001b[1;34m\u001b[0m\n\u001b[0;32m      1\u001b[0m \u001b[1;32mfrom\u001b[0m \u001b[0mlib\u001b[0m \u001b[1;32mimport\u001b[0m \u001b[0mdata\u001b[0m\u001b[1;33m\u001b[0m\u001b[1;33m\u001b[0m\u001b[0m\n\u001b[1;32m----> 2\u001b[1;33m \u001b[0mdata\u001b[0m\u001b[1;33m.\u001b[0m\u001b[0mload_relative\u001b[0m\u001b[1;33m(\u001b[0m\u001b[0mdata_path\u001b[0m\u001b[1;33m)\u001b[0m\u001b[1;33m\u001b[0m\u001b[1;33m\u001b[0m\u001b[0m\n\u001b[0m",
      "\u001b[1;32mD:\\AIProjects\\DeepRL\\Unit 10 - Stocks RL\\lib\\data.py\u001b[0m in \u001b[0;36mload_relative\u001b[1;34m(csv_file)\u001b[0m\n\u001b[0;32m     68\u001b[0m \u001b[1;33m\u001b[0m\u001b[0m\n\u001b[0;32m     69\u001b[0m \u001b[1;32mdef\u001b[0m \u001b[0mload_relative\u001b[0m\u001b[1;33m(\u001b[0m\u001b[0mcsv_file\u001b[0m\u001b[1;33m)\u001b[0m\u001b[1;33m:\u001b[0m\u001b[1;33m\u001b[0m\u001b[1;33m\u001b[0m\u001b[0m\n\u001b[1;32m---> 70\u001b[1;33m     \u001b[1;32mreturn\u001b[0m \u001b[0mprices_to_relative\u001b[0m\u001b[1;33m(\u001b[0m\u001b[0mread_csv\u001b[0m\u001b[1;33m(\u001b[0m\u001b[0mcsv_file\u001b[0m\u001b[1;33m)\u001b[0m\u001b[1;33m)\u001b[0m\u001b[1;33m\u001b[0m\u001b[1;33m\u001b[0m\u001b[0m\n\u001b[0m\u001b[0;32m     71\u001b[0m \u001b[1;33m\u001b[0m\u001b[0m\n\u001b[0;32m     72\u001b[0m \u001b[1;32mdef\u001b[0m \u001b[0mprice_files\u001b[0m\u001b[1;33m(\u001b[0m\u001b[0mdir_name\u001b[0m\u001b[1;33m)\u001b[0m\u001b[1;33m:\u001b[0m\u001b[1;33m\u001b[0m\u001b[1;33m\u001b[0m\u001b[0m\n",
      "\u001b[1;32mD:\\AIProjects\\DeepRL\\Unit 10 - Stocks RL\\lib\\data.py\u001b[0m in \u001b[0;36mread_csv\u001b[1;34m(file_name, sep, filter_data, fix_open_price)\u001b[0m\n\u001b[0;32m     24\u001b[0m         \u001b[1;32mfor\u001b[0m \u001b[0mrow\u001b[0m \u001b[1;32min\u001b[0m \u001b[0mreader\u001b[0m\u001b[1;33m:\u001b[0m\u001b[1;33m\u001b[0m\u001b[1;33m\u001b[0m\u001b[0m\n\u001b[0;32m     25\u001b[0m             \u001b[0mvals\u001b[0m \u001b[1;33m=\u001b[0m \u001b[0mlist\u001b[0m\u001b[1;33m(\u001b[0m\u001b[0mmap\u001b[0m\u001b[1;33m(\u001b[0m\u001b[0mfloat\u001b[0m\u001b[1;33m,\u001b[0m \u001b[1;33m[\u001b[0m\u001b[0mrow\u001b[0m\u001b[1;33m[\u001b[0m\u001b[0midx\u001b[0m\u001b[1;33m]\u001b[0m \u001b[1;32mfor\u001b[0m \u001b[0midx\u001b[0m \u001b[1;32min\u001b[0m \u001b[0mindices\u001b[0m\u001b[1;33m]\u001b[0m\u001b[1;33m)\u001b[0m\u001b[1;33m)\u001b[0m\u001b[1;33m\u001b[0m\u001b[1;33m\u001b[0m\u001b[0m\n\u001b[1;32m---> 26\u001b[1;33m             \u001b[1;32mif\u001b[0m \u001b[0mfilter_data\u001b[0m \u001b[1;32min\u001b[0m \u001b[0mall\u001b[0m\u001b[1;33m(\u001b[0m\u001b[0mmap\u001b[0m\u001b[1;33m(\u001b[0m\u001b[1;32mlambda\u001b[0m \u001b[0mv\u001b[0m\u001b[1;33m:\u001b[0m \u001b[0mabs\u001b[0m\u001b[1;33m(\u001b[0m\u001b[0mv\u001b[0m \u001b[1;33m-\u001b[0m\u001b[0mvals\u001b[0m\u001b[1;33m[\u001b[0m\u001b[1;36m0\u001b[0m\u001b[1;33m]\u001b[0m\u001b[1;33m)\u001b[0m \u001b[1;33m<\u001b[0m \u001b[1;36m1e-8\u001b[0m\u001b[1;33m,\u001b[0m \u001b[0mvals\u001b[0m\u001b[1;33m[\u001b[0m\u001b[1;33m:\u001b[0m\u001b[1;33m-\u001b[0m\u001b[1;36m1\u001b[0m\u001b[1;33m]\u001b[0m\u001b[1;33m)\u001b[0m\u001b[1;33m)\u001b[0m\u001b[1;33m:\u001b[0m\u001b[1;33m\u001b[0m\u001b[1;33m\u001b[0m\u001b[0m\n\u001b[0m\u001b[0;32m     27\u001b[0m                 \u001b[0mcount_filter\u001b[0m \u001b[1;33m+=\u001b[0m \u001b[1;36m1\u001b[0m\u001b[1;33m\u001b[0m\u001b[1;33m\u001b[0m\u001b[0m\n\u001b[0;32m     28\u001b[0m                 \u001b[1;32mcontinue\u001b[0m\u001b[1;33m\u001b[0m\u001b[1;33m\u001b[0m\u001b[0m\n",
      "\u001b[1;31mTypeError\u001b[0m: argument of type 'bool' is not iterable"
     ]
    }
   ],
   "source": [
    "from lib import data\n",
    "data.load_relative(data_path)"
   ]
  },
  {
   "cell_type": "code",
   "execution_count": null,
   "id": "2c57b6ee-5ea4-48fa-997f-8a64ae0ed4fb",
   "metadata": {},
   "outputs": [],
   "source": [
    "env = gym.wrappers.TimeLimit(env, max_episode_steps=1000)\n",
    "val_data = {\"YNDX\": data.load_relative(val_path)}\n",
    "env_val = environ.StocksEnv(val_data, bars_count=BARS_COUNT, state_1d=True)\n",
    "\n",
    "net = models.DQNConv1D(env.observation_space.shape, env.action_space.n).to(device)\n",
    "tgt_net = ptan.agent.TargetNet(net)\n",
    "\n",
    "selector = ptan.actions.EpsilonGreedyActionSelector(EPS_START)\n",
    "eps_tracker = ptan.actions.EpsilonTracker(\n",
    "    selector, EPS_START, EPS_FINAL, EPS_STEPS)\n",
    "agent = ptan.agent.DQNAgent(net, selector, device=device)\n",
    "exp_source = ptan.experience.ExperienceSourceFirstLast(\n",
    "    env, agent, GAMMA, steps_count=REWARD_STEPS)\n",
    "buffer = ptan.experience.ExperienceReplayBuffer(\n",
    "    exp_source, REPLAY_SIZE)\n",
    "optimizer = optim.Adam(net.parameters(), lr=LEARNING_RATE)\n",
    "\n"
   ]
  },
  {
   "cell_type": "code",
   "execution_count": null,
   "id": "ddc96af0-1f4d-4ce0-b414-ef91fcad00af",
   "metadata": {},
   "outputs": [],
   "source": [
    "def process_batch(engine, batch):\n",
    "    optimizer.zero_grad()\n",
    "    loss_v = common.calc_loss(\n",
    "        batch, net, tgt_net.target_model,\n",
    "        gamma=GAMMA ** REWARD_STEPS, device=device)\n",
    "    loss_v.backward()\n",
    "    optimizer.step()\n",
    "    eps_tracker.frame(engine.state.iteration)\n",
    "\n",
    "    if getattr(engine.state, \"eval_states\", None) is None:\n",
    "        eval_states = buffer.sample(STATES_TO_EVALUATE)\n",
    "        eval_states = [np.array(transition.state, copy=False)\n",
    "                       for transition in eval_states]\n",
    "        engine.state.eval_states = np.array(eval_states, copy=False)\n",
    "\n",
    "    return {\n",
    "        \"loss\": loss_v.item(),\n",
    "        \"epsilon\": selector.epsilon,\n",
    "    }\n",
    "\n",
    "engine = Engine(process_batch)\n",
    "tb = common.setup_ignite(engine, exp_source, f\"conv-{args.run}\",\n",
    "                         extra_metrics=('values_mean',))\n",
    "\n",
    "@engine.on(ptan.ignite.PeriodEvents.ITERS_1000_COMPLETED)\n",
    "def sync_eval(engine: Engine):\n",
    "    tgt_net.sync()\n",
    "\n",
    "    mean_val = common.calc_values_of_states(\n",
    "        engine.state.eval_states, net, device=device)\n",
    "    engine.state.metrics[\"values_mean\"] = mean_val\n",
    "    if getattr(engine.state, \"best_mean_val\", None) is None:\n",
    "        engine.state.best_mean_val = mean_val\n",
    "    if engine.state.best_mean_val < mean_val:\n",
    "        print(\"%d: Best mean value updated %.3f -> %.3f\" % (\n",
    "            engine.state.iteration, engine.state.best_mean_val,\n",
    "            mean_val))\n",
    "        path = saves_path / (\"mean_value-%.3f.data\" % mean_val)\n",
    "        torch.save(net.state_dict(), path)\n",
    "        engine.state.best_mean_val = mean_val\n",
    "\n",
    "@engine.on(ptan.ignite.PeriodEvents.ITERS_10000_COMPLETED)\n",
    "def validate(engine: Engine):\n",
    "    res = validation.validation_run(env_tst, net, device=device)\n",
    "    print(\"%d: tst: %s\" % (engine.state.iteration, res))\n",
    "    for key, val in res.items():\n",
    "        engine.state.metrics[key + \"_tst\"] = val\n",
    "    res = validation.validation_run(env_val, net, device=device)\n",
    "    print(\"%d: val: %s\" % (engine.state.iteration, res))\n",
    "    for key, val in res.items():\n",
    "        engine.state.metrics[key + \"_val\"] = val\n",
    "    val_reward = res['episode_reward']\n",
    "    if getattr(engine.state, \"best_val_reward\", None) is None:\n",
    "        engine.state.best_val_reward = val_reward\n",
    "    if engine.state.best_val_reward < val_reward:\n",
    "        print(\"Best validation reward updated: %.3f -> %.3f, model saved\" % (\n",
    "            engine.state.best_val_reward, val_reward\n",
    "        ))\n",
    "        engine.state.best_val_reward = val_reward\n",
    "        path = saves_path / (\"val_reward-%.3f.data\" % val_reward)\n",
    "        torch.save(net.state_dict(), path)\n",
    "\n",
    "\n",
    "event = ptan.ignite.PeriodEvents.ITERS_10000_COMPLETED\n",
    "tst_metrics = [m + \"_tst\" for m in validation.METRICS]\n",
    "tst_handler = tb_logger.OutputHandler(\n",
    "    tag=\"test\", metric_names=tst_metrics)\n",
    "tb.attach(engine, log_handler=tst_handler, event_name=event)\n",
    "\n",
    "val_metrics = [m + \"_val\" for m in validation.METRICS]\n",
    "val_handler = tb_logger.OutputHandler(\n",
    "    tag=\"validation\", metric_names=val_metrics)\n",
    "tb.attach(engine, log_handler=val_handler, event_name=event)\n",
    "\n",
    "engine.run(common.batch_generator(buffer, REPLAY_INITIAL, BATCH_SIZE))"
   ]
  }
 ],
 "metadata": {
  "kernelspec": {
   "display_name": "deeprl",
   "language": "python",
   "name": "deeprl"
  },
  "language_info": {
   "codemirror_mode": {
    "name": "ipython",
    "version": 3
   },
   "file_extension": ".py",
   "mimetype": "text/x-python",
   "name": "python",
   "nbconvert_exporter": "python",
   "pygments_lexer": "ipython3",
   "version": "3.7.5"
  }
 },
 "nbformat": 4,
 "nbformat_minor": 5
}
